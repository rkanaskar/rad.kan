{
 "cells": [
  {
   "cell_type": "code",
   "execution_count": 3,
   "metadata": {},
   "outputs": [
    {
     "name": "stdout",
     "output_type": "stream",
     "text": [
      "[1, 2, 3, 4, 5]\n"
     ]
    }
   ],
   "source": [
    "import pandas as pd \n",
    "\n",
    "# create a fake dataset with a few rows and columns\n",
    "df = pd.DataFrame({'A': [1, 2, 3, 4, 5], 'B': [6, 7, 8, 9, 10], 'C': [11, 12, 13, 14, 15]})\n",
    "df\n",
    "\n",
    "# create a function that sorts a list of numbers in ascending orde\n",
    "def sort_ascending(numbers):\n",
    "    sorted_numbers = sorted(numbers)\n",
    "    return sorted_numbers\n",
    "\n",
    "# call the function with a list of numbers\n",
    "sorted_numbers = sort_ascending([3, 1, 4, 2, 5])\n",
    "print(sorted_numbers)\n"
   ]
  }
 ],
 "metadata": {
  "kernelspec": {
   "display_name": "base",
   "language": "python",
   "name": "python3"
  },
  "language_info": {
   "codemirror_mode": {
    "name": "ipython",
    "version": 3
   },
   "file_extension": ".py",
   "mimetype": "text/x-python",
   "name": "python",
   "nbconvert_exporter": "python",
   "pygments_lexer": "ipython3",
   "version": "3.12.4"
  }
 },
 "nbformat": 4,
 "nbformat_minor": 2
}
